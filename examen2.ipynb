{
 "cells": [
  {
   "cell_type": "markdown",
   "id": "ef584f5f",
   "metadata": {},
   "source": [
    "# Practical exam 2\n",
    "\n",
    "Name: Ricardo Villarreal Bazán \n",
    "\n",
    "Student ID: A01666859\n",
    "\n",
    "You are given this semester's data about students grades in a small campus of a university. The data is given to you as a .sql file for a sqlite3 database. \n",
    "\n",
    "- Each course is taught by a single professor each semester.\n",
    "- Each semester a single group is open for a course, so we don't model groups in the database.\n",
    "\n",
    "Your task is to recreate the database and answer answer some questions about the data. You must provide the necessary code to output the answers and add any conclusions if required. Each question must be answered in its own section.\n",
    "\n",
    "You must open a single database connection in this notebook and properly close it."
   ]
  },
  {
   "cell_type": "markdown",
   "id": "2584134d",
   "metadata": {},
   "source": [
    "## 1. Provide a table with ONLY the student_id and the full name of all students."
   ]
  },
  {
   "cell_type": "code",
   "execution_count": 1,
   "id": "4b43613b",
   "metadata": {},
   "outputs": [
    {
     "data": {
      "text/html": [
       "<div>\n",
       "<style scoped>\n",
       "    .dataframe tbody tr th:only-of-type {\n",
       "        vertical-align: middle;\n",
       "    }\n",
       "\n",
       "    .dataframe tbody tr th {\n",
       "        vertical-align: top;\n",
       "    }\n",
       "\n",
       "    .dataframe thead th {\n",
       "        text-align: right;\n",
       "    }\n",
       "</style>\n",
       "<table border=\"1\" class=\"dataframe\">\n",
       "  <thead>\n",
       "    <tr style=\"text-align: right;\">\n",
       "      <th></th>\n",
       "      <th>student_id</th>\n",
       "      <th>full_name</th>\n",
       "    </tr>\n",
       "  </thead>\n",
       "  <tbody>\n",
       "    <tr>\n",
       "      <th>0</th>\n",
       "      <td>1</td>\n",
       "      <td>Emily Brown</td>\n",
       "    </tr>\n",
       "    <tr>\n",
       "      <th>1</th>\n",
       "      <td>2</td>\n",
       "      <td>Jane Smith</td>\n",
       "    </tr>\n",
       "    <tr>\n",
       "      <th>2</th>\n",
       "      <td>3</td>\n",
       "      <td>Mark Johnson</td>\n",
       "    </tr>\n",
       "    <tr>\n",
       "      <th>3</th>\n",
       "      <td>4</td>\n",
       "      <td>John Doe</td>\n",
       "    </tr>\n",
       "    <tr>\n",
       "      <th>4</th>\n",
       "      <td>5</td>\n",
       "      <td>Michael Williams</td>\n",
       "    </tr>\n",
       "    <tr>\n",
       "      <th>5</th>\n",
       "      <td>6</td>\n",
       "      <td>Sarah Davis</td>\n",
       "    </tr>\n",
       "    <tr>\n",
       "      <th>6</th>\n",
       "      <td>7</td>\n",
       "      <td>David Miller</td>\n",
       "    </tr>\n",
       "    <tr>\n",
       "      <th>7</th>\n",
       "      <td>8</td>\n",
       "      <td>Sophia Garcia</td>\n",
       "    </tr>\n",
       "    <tr>\n",
       "      <th>8</th>\n",
       "      <td>9</td>\n",
       "      <td>Daniel Martinez</td>\n",
       "    </tr>\n",
       "    <tr>\n",
       "      <th>9</th>\n",
       "      <td>10</td>\n",
       "      <td>Olivia Rodriguez</td>\n",
       "    </tr>\n",
       "  </tbody>\n",
       "</table>\n",
       "</div>"
      ],
      "text/plain": [
       "   student_id         full_name\n",
       "0           1       Emily Brown\n",
       "1           2        Jane Smith\n",
       "2           3      Mark Johnson\n",
       "3           4          John Doe\n",
       "4           5  Michael Williams\n",
       "5           6       Sarah Davis\n",
       "6           7      David Miller\n",
       "7           8     Sophia Garcia\n",
       "8           9   Daniel Martinez\n",
       "9          10  Olivia Rodriguez"
      ]
     },
     "execution_count": 1,
     "metadata": {},
     "output_type": "execute_result"
    }
   ],
   "source": [
    "import sqlite3\n",
    "import pandas as pd\n",
    "\n",
    "bob = sqlite3.connect('university.db')\n",
    "\n",
    "pd.read_sql(\"SELECT student_id, first_name || ' ' || last_name AS full_name FROM students;\",bob)\n",
    "\n"
   ]
  },
  {
   "cell_type": "markdown",
   "id": "4ee8e51d",
   "metadata": {},
   "source": [
    "## 2. What was the score average over all courses? \n",
    "We don't want a weighted average by course, each evaluation of a student in a course must have the same weight."
   ]
  },
  {
   "cell_type": "code",
   "execution_count": 31,
   "id": "4aa21d04",
   "metadata": {},
   "outputs": [
    {
     "name": "stdout",
     "output_type": "stream",
     "text": [
      "Average score across all student-course evaluations:\n"
     ]
    },
    {
     "data": {
      "text/plain": [
       "77.35"
      ]
     },
     "execution_count": 31,
     "metadata": {},
     "output_type": "execute_result"
    }
   ],
   "source": [
    "query = \"\"\"\n",
    "SELECT AVG(grade) AS average_score\n",
    "FROM student_courses;\n",
    "\"\"\"\n",
    "\n",
    "cursor = bob.cursor()\n",
    "cursor.execute(query)\n",
    "average_score = cursor.fetchone()[0]\n",
    "\n",
    "\n",
    "print(\"Average score across all student-course evaluations:\") \n",
    "average_score\n"
   ]
  },
  {
   "cell_type": "markdown",
   "id": "174c1e31",
   "metadata": {},
   "source": [
    "# 3. Provide a list of the students that have failed at least one course.\n",
    "\n",
    "Provide only their full names. Each student must appear once in this list, even if they failed multiple courses."
   ]
  },
  {
   "cell_type": "code",
   "execution_count": 59,
   "id": "0d001503",
   "metadata": {},
   "outputs": [
    {
     "name": "stdout",
     "output_type": "stream",
     "text": [
      "Students who've failed one couse:\n"
     ]
    },
    {
     "data": {
      "text/html": [
       "<div>\n",
       "<style scoped>\n",
       "    .dataframe tbody tr th:only-of-type {\n",
       "        vertical-align: middle;\n",
       "    }\n",
       "\n",
       "    .dataframe tbody tr th {\n",
       "        vertical-align: top;\n",
       "    }\n",
       "\n",
       "    .dataframe thead th {\n",
       "        text-align: right;\n",
       "    }\n",
       "</style>\n",
       "<table border=\"1\" class=\"dataframe\">\n",
       "  <thead>\n",
       "    <tr style=\"text-align: right;\">\n",
       "      <th></th>\n",
       "      <th>full_name</th>\n",
       "    </tr>\n",
       "  </thead>\n",
       "  <tbody>\n",
       "    <tr>\n",
       "      <th>0</th>\n",
       "      <td>Jane Smith</td>\n",
       "    </tr>\n",
       "    <tr>\n",
       "      <th>1</th>\n",
       "      <td>John Doe</td>\n",
       "    </tr>\n",
       "    <tr>\n",
       "      <th>2</th>\n",
       "      <td>Michael Williams</td>\n",
       "    </tr>\n",
       "    <tr>\n",
       "      <th>3</th>\n",
       "      <td>David Miller</td>\n",
       "    </tr>\n",
       "    <tr>\n",
       "      <th>4</th>\n",
       "      <td>Olivia Rodriguez</td>\n",
       "    </tr>\n",
       "  </tbody>\n",
       "</table>\n",
       "</div>"
      ],
      "text/plain": [
       "          full_name\n",
       "0        Jane Smith\n",
       "1          John Doe\n",
       "2  Michael Williams\n",
       "3      David Miller\n",
       "4  Olivia Rodriguez"
      ]
     },
     "execution_count": 59,
     "metadata": {},
     "output_type": "execute_result"
    }
   ],
   "source": [
    "print(\"Students who've failed one couse:\")\n",
    "pd.read_sql(\"SELECT DISTINCT s.first_name || ' ' || s.last_name AS full_name FROM students s JOIN student_courses sc ON s.student_id = sc.student_id WHERE sc.grade < 70;\",bob)\n"
   ]
  },
  {
   "cell_type": "markdown",
   "id": "870bd551",
   "metadata": {},
   "source": [
    "# 4. Provide a table with the average grade by course for this semester.\n",
    "\n",
    "- We want to see only the course name, and the average grade of students enrolled in the course.\n",
    "- The average grade column must be called **average_grade**."
   ]
  },
  {
   "cell_type": "code",
   "execution_count": 33,
   "id": "3dc76a69",
   "metadata": {},
   "outputs": [
    {
     "data": {
      "text/html": [
       "<div>\n",
       "<style scoped>\n",
       "    .dataframe tbody tr th:only-of-type {\n",
       "        vertical-align: middle;\n",
       "    }\n",
       "\n",
       "    .dataframe tbody tr th {\n",
       "        vertical-align: top;\n",
       "    }\n",
       "\n",
       "    .dataframe thead th {\n",
       "        text-align: right;\n",
       "    }\n",
       "</style>\n",
       "<table border=\"1\" class=\"dataframe\">\n",
       "  <thead>\n",
       "    <tr style=\"text-align: right;\">\n",
       "      <th></th>\n",
       "      <th>course_name</th>\n",
       "      <th>average_grade</th>\n",
       "    </tr>\n",
       "  </thead>\n",
       "  <tbody>\n",
       "    <tr>\n",
       "      <th>0</th>\n",
       "      <td>Algorithms</td>\n",
       "      <td>78.666667</td>\n",
       "    </tr>\n",
       "    <tr>\n",
       "      <th>1</th>\n",
       "      <td>Artificial Intelligence</td>\n",
       "      <td>85.500000</td>\n",
       "    </tr>\n",
       "    <tr>\n",
       "      <th>2</th>\n",
       "      <td>Computer Networks</td>\n",
       "      <td>90.500000</td>\n",
       "    </tr>\n",
       "    <tr>\n",
       "      <th>3</th>\n",
       "      <td>Data Science</td>\n",
       "      <td>82.000000</td>\n",
       "    </tr>\n",
       "    <tr>\n",
       "      <th>4</th>\n",
       "      <td>Database Systems</td>\n",
       "      <td>71.500000</td>\n",
       "    </tr>\n",
       "    <tr>\n",
       "      <th>5</th>\n",
       "      <td>Discrete Mathematics</td>\n",
       "      <td>73.000000</td>\n",
       "    </tr>\n",
       "    <tr>\n",
       "      <th>6</th>\n",
       "      <td>Operating Systems</td>\n",
       "      <td>74.000000</td>\n",
       "    </tr>\n",
       "    <tr>\n",
       "      <th>7</th>\n",
       "      <td>Programming Languages</td>\n",
       "      <td>71.666667</td>\n",
       "    </tr>\n",
       "    <tr>\n",
       "      <th>8</th>\n",
       "      <td>Software Engineering</td>\n",
       "      <td>72.500000</td>\n",
       "    </tr>\n",
       "    <tr>\n",
       "      <th>9</th>\n",
       "      <td>Web Development</td>\n",
       "      <td>80.000000</td>\n",
       "    </tr>\n",
       "  </tbody>\n",
       "</table>\n",
       "</div>"
      ],
      "text/plain": [
       "               course_name  average_grade\n",
       "0               Algorithms      78.666667\n",
       "1  Artificial Intelligence      85.500000\n",
       "2        Computer Networks      90.500000\n",
       "3             Data Science      82.000000\n",
       "4         Database Systems      71.500000\n",
       "5     Discrete Mathematics      73.000000\n",
       "6        Operating Systems      74.000000\n",
       "7    Programming Languages      71.666667\n",
       "8     Software Engineering      72.500000\n",
       "9          Web Development      80.000000"
      ]
     },
     "execution_count": 33,
     "metadata": {},
     "output_type": "execute_result"
    }
   ],
   "source": [
    "pd.read_sql(\"SELECT c.course_name, AVG(sc.grade) AS average_grade FROM courses c JOIN student_courses sc ON c.course_id = sc.course_id GROUP BY c.course_name;\",bob)"
   ]
  },
  {
   "cell_type": "markdown",
   "id": "58f8883d",
   "metadata": {},
   "source": [
    "# 5. Are there any departments listed in the database that didn't offer courses this semester? Provide a list if there are any."
   ]
  },
  {
   "cell_type": "code",
   "execution_count": 60,
   "id": "0c592b1b",
   "metadata": {},
   "outputs": [
    {
     "name": "stdout",
     "output_type": "stream",
     "text": [
      "Departments that didn`t offer classes: \n"
     ]
    },
    {
     "data": {
      "text/html": [
       "<div>\n",
       "<style scoped>\n",
       "    .dataframe tbody tr th:only-of-type {\n",
       "        vertical-align: middle;\n",
       "    }\n",
       "\n",
       "    .dataframe tbody tr th {\n",
       "        vertical-align: top;\n",
       "    }\n",
       "\n",
       "    .dataframe thead th {\n",
       "        text-align: right;\n",
       "    }\n",
       "</style>\n",
       "<table border=\"1\" class=\"dataframe\">\n",
       "  <thead>\n",
       "    <tr style=\"text-align: right;\">\n",
       "      <th></th>\n",
       "      <th>department_name</th>\n",
       "    </tr>\n",
       "  </thead>\n",
       "  <tbody>\n",
       "    <tr>\n",
       "      <th>0</th>\n",
       "      <td>Computer Science</td>\n",
       "    </tr>\n",
       "    <tr>\n",
       "      <th>1</th>\n",
       "      <td>Mechanical Engineering</td>\n",
       "    </tr>\n",
       "    <tr>\n",
       "      <th>2</th>\n",
       "      <td>Civil Engineering</td>\n",
       "    </tr>\n",
       "    <tr>\n",
       "      <th>3</th>\n",
       "      <td>Chemical Engineering</td>\n",
       "    </tr>\n",
       "    <tr>\n",
       "      <th>4</th>\n",
       "      <td>Chemistry</td>\n",
       "    </tr>\n",
       "    <tr>\n",
       "      <th>5</th>\n",
       "      <td>Economics</td>\n",
       "    </tr>\n",
       "  </tbody>\n",
       "</table>\n",
       "</div>"
      ],
      "text/plain": [
       "          department_name\n",
       "0        Computer Science\n",
       "1  Mechanical Engineering\n",
       "2       Civil Engineering\n",
       "3    Chemical Engineering\n",
       "4               Chemistry\n",
       "5               Economics"
      ]
     },
     "execution_count": 60,
     "metadata": {},
     "output_type": "execute_result"
    }
   ],
   "source": [
    "print(\"Departments that didn`t offer classes: \")\n",
    "pd.read_sql(\"SELECT d.department_name FROM departments d LEFT JOIN faculty f ON d.department_id = f.department_id LEFT JOIN courses c ON f.faculty_id = c.professor_id WHERE c.course_id IS NULL;\",bob)\n"
   ]
  },
  {
   "cell_type": "markdown",
   "id": "c9be6f62",
   "metadata": {},
   "source": [
    "# 6. Which professor has the most failed students this semester (below 70), and how many students failed with this professor?"
   ]
  },
  {
   "cell_type": "code",
   "execution_count": 42,
   "id": "bf779b43",
   "metadata": {},
   "outputs": [
    {
     "data": {
      "text/html": [
       "<div>\n",
       "<style scoped>\n",
       "    .dataframe tbody tr th:only-of-type {\n",
       "        vertical-align: middle;\n",
       "    }\n",
       "\n",
       "    .dataframe tbody tr th {\n",
       "        vertical-align: top;\n",
       "    }\n",
       "\n",
       "    .dataframe thead th {\n",
       "        text-align: right;\n",
       "    }\n",
       "</style>\n",
       "<table border=\"1\" class=\"dataframe\">\n",
       "  <thead>\n",
       "    <tr style=\"text-align: right;\">\n",
       "      <th></th>\n",
       "      <th>faculty_name</th>\n",
       "      <th>failed_students</th>\n",
       "    </tr>\n",
       "  </thead>\n",
       "  <tbody>\n",
       "    <tr>\n",
       "      <th>0</th>\n",
       "      <td>Dr. Alan Turing</td>\n",
       "      <td>2</td>\n",
       "    </tr>\n",
       "  </tbody>\n",
       "</table>\n",
       "</div>"
      ],
      "text/plain": [
       "      faculty_name  failed_students\n",
       "0  Dr. Alan Turing                2"
      ]
     },
     "execution_count": 42,
     "metadata": {},
     "output_type": "execute_result"
    }
   ],
   "source": [
    "pd.read_sql(\"SELECT f.faculty_name, COUNT(*) AS failed_students FROM student_courses sc JOIN courses c ON sc.course_id = c.course_id JOIN faculty f ON c.professor_id = f.faculty_id WHERE sc.grade < 70 GROUP BY f.faculty_name ORDER BY failed_students DESC LIMIT 1;\",bob)"
   ]
  },
  {
   "cell_type": "markdown",
   "id": "89be2f9e",
   "metadata": {},
   "source": [
    "# 7. Extra. What improvements would you suggest to the database?\n",
    "\n",
    "You can think about:\n",
    "\n",
    "- Complex queries that you made that could be easier with a better design.\n",
    "- Improvements needed if the university were to grow."
   ]
  },
  {
   "cell_type": "markdown",
   "id": "59b5a262",
   "metadata": {},
   "source": [
    "## 1. Adding a semester table to keep records on the courses \n",
    "## 2. Making an hour table to see how many hours does a course give  "
   ]
  }
 ],
 "metadata": {
  "kernelspec": {
   "display_name": "idm",
   "language": "python",
   "name": "python3"
  },
  "language_info": {
   "codemirror_mode": {
    "name": "ipython",
    "version": 3
   },
   "file_extension": ".py",
   "mimetype": "text/x-python",
   "name": "python",
   "nbconvert_exporter": "python",
   "pygments_lexer": "ipython3",
   "version": "3.11.11"
  }
 },
 "nbformat": 4,
 "nbformat_minor": 5
}
